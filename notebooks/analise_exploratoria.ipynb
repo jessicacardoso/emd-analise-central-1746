{
 "cells": [
  {
   "cell_type": "code",
   "execution_count": null,
   "metadata": {},
   "outputs": [],
   "source": [
    "import basedosdados as bd\n",
    "import pandas as pd\n",
    "import matplotlib.pyplot as plt\n",
    "import seaborn as sns\n",
    "from datetime import date\n",
    "import numpy as np\n",
    "\n",
    "pd.set_option(\"display.max_columns\", None)\n",
    "\n",
    "chamado_1746 = pd.read_parquet(\"../data/chamado_1746.parquet\")\n",
    "bairro = pd.read_parquet(\"../data/bairro.parquet\")\n",
    "ocupacao_eventos = pd.read_parquet(\"../data/rede_hoteleira_ocupacao_eventos.parquet\")"
   ]
  },
  {
   "cell_type": "markdown",
   "metadata": {},
   "source": [
    "## Análise exploratória de dados inicial"
   ]
  },
  {
   "cell_type": "code",
   "execution_count": null,
   "metadata": {},
   "outputs": [],
   "source": [
    "bairro.head()"
   ]
  },
  {
   "cell_type": "code",
   "execution_count": null,
   "metadata": {},
   "outputs": [],
   "source": [
    "ocupacao_eventos.head()"
   ]
  },
  {
   "cell_type": "code",
   "execution_count": null,
   "metadata": {},
   "outputs": [],
   "source": [
    "chamado_1746.sample(5)"
   ]
  },
  {
   "cell_type": "code",
   "execution_count": null,
   "metadata": {},
   "outputs": [],
   "source": [
    "chamado_1746.info()"
   ]
  },
  {
   "cell_type": "code",
   "execution_count": null,
   "metadata": {},
   "outputs": [],
   "source": [
    "chamado_1746.describe().T"
   ]
  },
  {
   "cell_type": "code",
   "execution_count": null,
   "metadata": {},
   "outputs": [],
   "source": [
    "chamado_1746.describe(include=\"object\").T"
   ]
  },
  {
   "cell_type": "code",
   "execution_count": null,
   "metadata": {},
   "outputs": [],
   "source": [
    "columns = [\n",
    "    \"prazo_unidade\",\n",
    "    \"dentro_prazo\",\n",
    "    \"status\",\n",
    "    \"situacao\",\n",
    "    \"tipo_situacao\",\n",
    "    \"justificativa_status\",\n",
    "    \"unidade_organizacional_ouvidoria\",\n",
    "    \"prazo_tipo\",\n",
    "]\n",
    "\n",
    "# Prazo tipo: D (diagnostico), F (finalização)\n",
    "# Prazo unidade: D (dias), H (horas)\n",
    "\n",
    "fig, axes = plt.subplots(3, 3, figsize=(20, 20))\n",
    "fig.suptitle(\"Distribuição de variáveis categóricas\")\n",
    "for i, col in enumerate(columns):\n",
    "    ax = axes[i // 3, i % 3]\n",
    "    sns.countplot(x=col, data=chamado_1746, ax=ax)\n",
    "    ax.set_title(col)\n",
    "    ax.set_xlabel(\"\")\n",
    "    ax.set_ylabel(\"\")\n",
    "    ax.set_xticklabels(ax.get_xticklabels(), rotation=40, ha=\"right\")\n",
    "plt.tight_layout()\n",
    "plt.show()"
   ]
  },
  {
   "cell_type": "markdown",
   "metadata": {},
   "source": [
    "- A maioria dos chamados nos anos de 2022 e 2023 tiveram prazo definido em dias, sendo que a maioria foi resolvido dentro do prazo. \n",
    "- \"Fechado com solução\" é o status mais presente nos chamados, indicando que a maioria dos chamados foi resolvida. \n",
    "- A situação Encerrada é a mais presente nos chamados, indicando que a maioria dos chamados foi encerrada.\n",
    "- Os chamados, em sua maioria, não foram feitos via ouvidoria.\n",
    "- Os chamados que possuem campo de justiticativa preenchido tinham como valor \"Não há previsão para execução do serviço no local\" em sua maioria."
   ]
  },
  {
   "cell_type": "markdown",
   "metadata": {},
   "source": [
    "## Exploração dos meses"
   ]
  },
  {
   "cell_type": "markdown",
   "metadata": {},
   "source": [
    "Visualização dos dados de cada mês\n",
    "\n"
   ]
  },
  {
   "cell_type": "code",
   "execution_count": null,
   "metadata": {},
   "outputs": [],
   "source": [
    "meses_nomes = [\n",
    "    \"Janeiro\",\n",
    "    \"Fevereiro\",\n",
    "    \"Março\",\n",
    "    \"Abril\",\n",
    "    \"Maio\",\n",
    "    \"Junho\",\n",
    "    \"Julho\",\n",
    "    \"Agosto\",\n",
    "    \"Setembro\",\n",
    "    \"Outubro\",\n",
    "    \"Novembro\",\n",
    "    \"Dezembro\",\n",
    "]\n",
    "\n",
    "chamado_1746[\"mes\"] = chamado_1746[\"data_inicio\"].dt.month\n",
    "chamado_1746[\"mes\"] = chamado_1746[\"mes\"].apply(lambda x: meses_nomes[x - 1])\n",
    "chamado_1746[\"mes\"] = pd.Categorical(\n",
    "    chamado_1746[\"mes\"], categories=meses_nomes, ordered=True\n",
    ")\n",
    "\n",
    "fig, ax = plt.subplots(figsize=(15, 8))\n",
    "sns.countplot(x=\"mes\", data=chamado_1746, hue=\"tipo_situacao\", ax=ax)\n",
    "ax.set_title(\"Distribuição do tipo de situação por mês\")"
   ]
  },
  {
   "cell_type": "code",
   "execution_count": null,
   "metadata": {},
   "outputs": [],
   "source": [
    "fig, ax = plt.subplots(figsize=(15, 8))\n",
    "sns.countplot(x=\"mes\", data=chamado_1746, hue=\"justificativa_status\", ax=ax)\n",
    "ax.set_title(\"Distribuição da justificativa de status por mês\")"
   ]
  },
  {
   "cell_type": "code",
   "execution_count": null,
   "metadata": {},
   "outputs": [],
   "source": [
    "fig, ax = plt.subplots(figsize=(15, 8))\n",
    "sns.countplot(x=\"mes\", data=chamado_1746, hue=\"dentro_prazo\", ax=ax)\n",
    "ax.set_title(\"Distribuição de chamadas dentro e fora do prazo mensalmente\")"
   ]
  },
  {
   "cell_type": "code",
   "execution_count": null,
   "metadata": {},
   "outputs": [],
   "source": [
    "fig, ax = plt.subplots(figsize=(15, 8))\n",
    "sns.countplot(x=\"mes\", data=chamado_1746, hue=\"situacao\", ax=ax)\n",
    "ax.set_title(\"Distribuição da situação por mês\")"
   ]
  },
  {
   "cell_type": "code",
   "execution_count": null,
   "metadata": {},
   "outputs": [],
   "source": [
    "fig, ax = plt.subplots(figsize=(15, 8))\n",
    "sns.countplot(x=\"mes\", data=chamado_1746, ax=ax)\n",
    "ax.set_title(\"Frequência de chamados por mês\")"
   ]
  },
  {
   "cell_type": "code",
   "execution_count": null,
   "metadata": {},
   "outputs": [],
   "source": [
    "fig, ax = plt.subplots(figsize=(15, 8))\n",
    "sns.countplot(\n",
    "    x=\"mes\", data=chamado_1746[chamado_1746[\"tipo_situacao\"] == \"Atendido\"], ax=ax\n",
    ")\n",
    "ax.set_title(\"Frequência de chamados atendidos por mês\")"
   ]
  },
  {
   "cell_type": "code",
   "execution_count": null,
   "metadata": {},
   "outputs": [],
   "source": [
    "fig, ax = plt.subplots(figsize=(15, 8))\n",
    "sns.countplot(\n",
    "    x=\"mes\", data=chamado_1746[chamado_1746[\"tipo_situacao\"] == \"Não atendido\"], ax=ax\n",
    ")\n",
    "ax.set_title(\"Frequência de chamados não atendidos por mês\")"
   ]
  },
  {
   "cell_type": "markdown",
   "metadata": {},
   "source": [
    "- Janeiro é o mês com mais chamados, seguido por março e fevereiro respectivamente.\n",
    "- Os chamados em janeiro, maio e março foram os que foram mais atendidos.\n",
    "- Chamados não atendidos foram mais frequentes em março, janeiro e fevereiro.\n",
    "- Fevereiro foi o mês com mais chamados não encerrados.\n",
    "- Fevereiro também foi o mês com mais chamados fora do prazo."
   ]
  },
  {
   "cell_type": "markdown",
   "metadata": {},
   "source": [
    "## Exploração por tipos"
   ]
  },
  {
   "cell_type": "code",
   "execution_count": null,
   "metadata": {},
   "outputs": [],
   "source": [
    "top5 = chamado_1746[\"tipo\"].value_counts().head(5)\n",
    "top5.plot(kind=\"bar\", color=\"blue\")\n",
    "plt.title(\"Top 5 tipos de chamados\")"
   ]
  },
  {
   "cell_type": "code",
   "execution_count": null,
   "metadata": {},
   "outputs": [],
   "source": [
    "chamado_1746[\"status\"].value_counts()"
   ]
  },
  {
   "cell_type": "code",
   "execution_count": null,
   "metadata": {},
   "outputs": [],
   "source": [
    "dentro_prazo = chamado_1746[\"dentro_prazo\"]\n",
    "df_dentro_prazo = chamado_1746[chamado_1746[\"dentro_prazo\"] == \"No prazo\"]\n",
    "print(df_dentro_prazo.shape[0])\n",
    "tipos = df_dentro_prazo[\"tipo\"].value_counts().head(5)\n",
    "tipos.plot(kind=\"bar\", color=\"blue\")\n",
    "plt.title(\"Top 5 tipos de chamados dentro do prazo\")"
   ]
  },
  {
   "cell_type": "code",
   "execution_count": null,
   "metadata": {},
   "outputs": [],
   "source": [
    "# top categorias/tipos fora do prazo\n",
    "fora_prazo = chamado_1746[\"dentro_prazo\"]\n",
    "df_fora_prazo = chamado_1746[chamado_1746[\"dentro_prazo\"] != \"No prazo\"]\n",
    "print(df_fora_prazo.shape[0])\n",
    "tipos = df_fora_prazo[\"tipo\"].value_counts().head(5)\n",
    "tipos.plot(kind=\"bar\", color=\"blue\")\n",
    "plt.title(\"Top 5 tipos de chamados fora do prazo\")"
   ]
  },
  {
   "cell_type": "code",
   "execution_count": null,
   "metadata": {},
   "outputs": [],
   "source": [
    "# top categorias/tipos em andamento, mas fora do prazo\n",
    "fora_prazo = chamado_1746[\"dentro_prazo\"]\n",
    "df_fora_prazo = chamado_1746[chamado_1746[\"dentro_prazo\"] != \"No prazo\"]\n",
    "df_em_andamento = df_fora_prazo[df_fora_prazo[\"data_fim\"].isna() == True]\n",
    "df_em_andamento = df_em_andamento[df_em_andamento[\"status\"] == \"Em Andamento\"]\n",
    "print(df_em_andamento.shape[0])\n",
    "tipos = df_em_andamento[\"tipo\"].value_counts().head(5)\n",
    "tipos.plot(kind=\"bar\", color=\"blue\")\n",
    "plt.title(\"Top 5 tipos de chamados em andamento, mas fora do prazo\")"
   ]
  },
  {
   "cell_type": "markdown",
   "metadata": {},
   "source": [
    "- Estacionamento irregular e Iluminação pública são os tipos de chamados mais frequentes.\n",
    "- Em chamados dentro do prazo, \"Estacionamento Irregular\" é o tipo mais frequente.\n",
    "- Em chamados fora do prazo, \"Iluminação pública\" é o tipo mais frequente.\n",
    "- Dos chamados que estavam em andamento no período analisado, mas fora do prazo, \"Manejo Árboreo\" era o tipo mais frequente."
   ]
  }
 ],
 "metadata": {
  "kernelspec": {
   "display_name": "Python 3",
   "language": "python",
   "name": "python3"
  },
  "language_info": {
   "codemirror_mode": {
    "name": "ipython",
    "version": 3
   },
   "file_extension": ".py",
   "mimetype": "text/x-python",
   "name": "python",
   "nbconvert_exporter": "python",
   "pygments_lexer": "ipython3",
   "version": "3.10.13"
  }
 },
 "nbformat": 4,
 "nbformat_minor": 2
}
