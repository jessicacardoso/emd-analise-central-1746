{
 "cells": [
  {
   "cell_type": "markdown",
   "metadata": {},
   "source": [
    "# Análise de chamados ao 1746\n",
    "\n",
    "Scripts em python usando pandas para responder as perguntas a seguir."
   ]
  },
  {
   "cell_type": "code",
   "execution_count": 13,
   "metadata": {},
   "outputs": [
    {
     "name": "stdout",
     "output_type": "stream",
     "text": [
      "Downloading: 100%|\u001b[32m██████████\u001b[0m|\n",
      "Downloading: 100%|\u001b[32m██████████\u001b[0m|\n",
      "Downloading: 100%|\u001b[32m██████████\u001b[0m|\n"
     ]
    }
   ],
   "source": [
    "import pandas as pd\n",
    "import basedosdados as bd\n",
    "from datetime import date\n",
    "\n",
    "calls = bd.read_sql(\n",
    "    \"\"\"\n",
    "    SELECT\n",
    "        *\n",
    "    FROM\n",
    "        `datario.administracao_servicos_publicos.chamado_1746`\n",
    "    WHERE\n",
    "        data_particao BETWEEN \"2022-01-01\" AND \"2023-12-31\";\n",
    "    \"\"\",\n",
    "    billing_project_id=\"avian-light-413816\",\n",
    ")\n",
    "\n",
    "neighborhoods = bd.read_sql(\n",
    "    \"\"\"\n",
    "    SELECT\n",
    "        *\n",
    "    FROM\n",
    "        `datario.dados_mestres.bairro`;\n",
    "    \"\"\",\n",
    "    billing_project_id=\"avian-light-413816\",\n",
    ")\n",
    "\n",
    "events = bd.read_sql(\n",
    "    \"\"\"\n",
    "    SELECT\n",
    "        *\n",
    "    FROM\n",
    "        `datario.turismo_fluxo_visitantes.rede_hoteleira_ocupacao_eventos`;\n",
    "    \"\"\",\n",
    "    billing_project_id=\"avian-light-413816\",\n",
    ")"
   ]
  },
  {
   "cell_type": "markdown",
   "metadata": {},
   "source": [
    "## Localização de chamados do 1746"
   ]
  },
  {
   "cell_type": "markdown",
   "metadata": {},
   "source": [
    "1. Quantos chamados foram abertos no dia 01/04/2023?"
   ]
  },
  {
   "cell_type": "code",
   "execution_count": 14,
   "metadata": {},
   "outputs": [
    {
     "name": "stdout",
     "output_type": "stream",
     "text": [
      "Foram abertos 73 chamados no dia 01/04/2023\n"
     ]
    }
   ],
   "source": [
    "# 1. Quantos chamados foram abertos no dia 01/04/2023?\n",
    "calls_01042023 = calls[calls[\"data_inicio\"].dt.date == date(2023, 4, 1)]\n",
    "print(f\"Foram abertos {calls_01042023.shape[0]} chamados no dia 01/04/2023\")"
   ]
  },
  {
   "cell_type": "markdown",
   "metadata": {},
   "source": [
    "2. Qual o tipo de chamado que teve mais reclamações no dia 01/04/2023?"
   ]
  },
  {
   "cell_type": "code",
   "execution_count": 15,
   "metadata": {},
   "outputs": [
    {
     "name": "stdout",
     "output_type": "stream",
     "text": [
      "O tipo de chamado que teve mais reclamações no dia 01/04/2023 foi \"Poluição sonora\"\n"
     ]
    }
   ],
   "source": [
    "# 2. Qual o tipo de chamado que teve mais reclamações no dia 01/04/2023?\n",
    "most_complained_type = calls_01042023[\"tipo\"].value_counts().idxmax()\n",
    "print(\n",
    "    f'O tipo de chamado que teve mais reclamações no dia 01/04/2023 foi \"{most_complained_type}\"'\n",
    ")"
   ]
  },
  {
   "cell_type": "markdown",
   "metadata": {},
   "source": [
    "3. Quais os nomes dos 3 bairros que mais tiveram chamados abertos nesse dia?"
   ]
  },
  {
   "cell_type": "code",
   "execution_count": 16,
   "metadata": {},
   "outputs": [
    {
     "name": "stdout",
     "output_type": "stream",
     "text": [
      "Os 3 bairros que mais tiveram chamados abertos no dia 01/04/2023 foram:\n"
     ]
    },
    {
     "data": {
      "text/plain": [
       "nome\n",
       "Engenho de Dentro    8\n",
       "Leblon               6\n",
       "Campo Grande         6\n",
       "Name: count, dtype: int64"
      ]
     },
     "metadata": {},
     "output_type": "display_data"
    }
   ],
   "source": [
    "# 3. Quais os nomes dos 3 bairros que mais tiveram chamados abertos nesse dia?\n",
    "calls_with_neighborhoods = calls_01042023.merge(\n",
    "    neighborhoods, left_on=\"id_bairro\", right_on=\"id_bairro\"\n",
    ")\n",
    "\n",
    "top_3_neighborhoods = calls_with_neighborhoods[\"nome\"].value_counts().head(3)\n",
    "print(f\"Os 3 bairros que mais tiveram chamados abertos no dia 01/04/2023 foram:\")\n",
    "display(top_3_neighborhoods)"
   ]
  },
  {
   "cell_type": "markdown",
   "metadata": {},
   "source": [
    "4. Qual o nome da subprefeitura com mais chamados abertos nesse dia?"
   ]
  },
  {
   "cell_type": "code",
   "execution_count": 17,
   "metadata": {},
   "outputs": [
    {
     "name": "stdout",
     "output_type": "stream",
     "text": [
      "A subprefeitura com mais chamados abertos no dia 01/04/2023 foi \"Zona Norte\"\n"
     ]
    }
   ],
   "source": [
    "# 4. Qual o nome da subprefeitura com mais chamados abertos nesse dia?\n",
    "most_called_subprefecture = (\n",
    "    calls_with_neighborhoods[\"subprefeitura\"].value_counts().idxmax()\n",
    ")\n",
    "print(\n",
    "    f'A subprefeitura com mais chamados abertos no dia 01/04/2023 foi \"{most_called_subprefecture}\"'\n",
    ")"
   ]
  },
  {
   "cell_type": "markdown",
   "metadata": {},
   "source": [
    "5. Existe algum chamado aberto nesse dia que não foi associado a um bairro ou subprefeitura na tabela de bairros? Se sim, por que isso acontece?"
   ]
  },
  {
   "cell_type": "code",
   "execution_count": 18,
   "metadata": {},
   "outputs": [
    {
     "name": "stdout",
     "output_type": "stream",
     "text": [
      "Sim, há chamados que não foram associados a um bairro ou subprefeitura.\n"
     ]
    },
    {
     "data": {
      "text/html": [
       "<div>\n",
       "<style scoped>\n",
       "    .dataframe tbody tr th:only-of-type {\n",
       "        vertical-align: middle;\n",
       "    }\n",
       "\n",
       "    .dataframe tbody tr th {\n",
       "        vertical-align: top;\n",
       "    }\n",
       "\n",
       "    .dataframe thead th {\n",
       "        text-align: right;\n",
       "    }\n",
       "</style>\n",
       "<table border=\"1\" class=\"dataframe\">\n",
       "  <thead>\n",
       "    <tr style=\"text-align: right;\">\n",
       "      <th></th>\n",
       "      <th>id_bairro</th>\n",
       "      <th>tipo</th>\n",
       "      <th>subtipo</th>\n",
       "    </tr>\n",
       "  </thead>\n",
       "  <tbody>\n",
       "    <tr>\n",
       "      <th>0</th>\n",
       "      <td>None</td>\n",
       "      <td>Ônibus</td>\n",
       "      <td>Verificação de ar condicionado inoperante no ônibus</td>\n",
       "    </tr>\n",
       "  </tbody>\n",
       "</table>\n",
       "</div>"
      ],
      "text/plain": [
       "  id_bairro    tipo                                              subtipo\n",
       "0  None      Ônibus  Verificação de ar condicionado inoperante no ônibus"
      ]
     },
     "metadata": {},
     "output_type": "display_data"
    }
   ],
   "source": [
    "# 5. Existe algum chamado aberto nesse dia que não foi associado a um bairro ou subprefeitura na tabela de bairros? Se sim, por que isso acontece?\n",
    "calls_without_neighborhood = calls_01042023.loc[\n",
    "    ~calls_01042023[\"id_bairro\"].isin(neighborhoods[\"id_bairro\"])\n",
    "]\n",
    "if calls_without_neighborhood.shape[0] > 0:\n",
    "    print(\"Sim, há chamados que não foram associados a um bairro ou subprefeitura.\")\n",
    "    with pd.option_context(\"display.max_colwidth\", 0):\n",
    "        display(\n",
    "            calls_without_neighborhood.loc[\n",
    "                :, [\"id_bairro\", \"tipo\", \"subtipo\"]\n",
    "            ].reset_index(drop=True)\n",
    "        )"
   ]
  },
  {
   "cell_type": "markdown",
   "metadata": {},
   "source": [
    "## Chamados do 1746 em grandes eventos"
   ]
  },
  {
   "cell_type": "markdown",
   "metadata": {},
   "source": [
    "6. Quantos chamados com o subtipo \"Perturbação do sossego\" foram abertos desde 01/01/2022 até 31/12/2023 (incluindo extremidades)?"
   ]
  },
  {
   "cell_type": "code",
   "execution_count": 19,
   "metadata": {},
   "outputs": [
    {
     "name": "stdout",
     "output_type": "stream",
     "text": [
      "Foram abertos 42,408 chamados com o subtipo \"Perturbação do sossego\" desde 01/01/2022 até 31/12/2023\n"
     ]
    }
   ],
   "source": [
    "# 6. Quantos chamados com o subtipo \"Perturbação do sossego\" foram abertos desde 01/01/2022 até 31/12/2023 (incluindo extremidades)?\n",
    "\n",
    "calls_perturbacao_sossego = calls.loc[\n",
    "    (calls[\"subtipo\"] == \"Perturbação do sossego\")\n",
    "    & (calls[\"data_inicio\"].dt.year.between(2022, 2023))\n",
    "]\n",
    "\n",
    "print(\n",
    "    f'Foram abertos {calls_perturbacao_sossego.shape[0]:,} chamados com o subtipo \"Perturbação do sossego\" desde 01/01/2022 até 31/12/2023'\n",
    ")"
   ]
  },
  {
   "cell_type": "markdown",
   "metadata": {},
   "source": [
    "7. Selecione os chamados com esse subtipo que foram abertos durante os eventos contidos na tabela de eventos (Reveillon, Carnaval e Rock in Rio)."
   ]
  },
  {
   "cell_type": "code",
   "execution_count": 20,
   "metadata": {},
   "outputs": [
    {
     "name": "stdout",
     "output_type": "stream",
     "text": [
      "<class 'pandas.core.frame.DataFrame'>\n",
      "Int64Index: 1212 entries, 104220 to 1610754\n",
      "Data columns (total 6 columns):\n",
      " #   Column          Non-Null Count  Dtype         \n",
      "---  ------          --------------  -----         \n",
      " 0   id_chamado      1212 non-null   object        \n",
      " 1   tipo            1212 non-null   object        \n",
      " 2   subtipo         1212 non-null   object        \n",
      " 3   data_inicio     1212 non-null   datetime64[ns]\n",
      " 4   subtipo         1212 non-null   object        \n",
      " 5   durante_evento  1212 non-null   object        \n",
      "dtypes: datetime64[ns](1), object(5)\n",
      "memory usage: 66.3+ KB\n",
      "None\n"
     ]
    },
    {
     "data": {
      "text/html": [
       "<div>\n",
       "<style scoped>\n",
       "    .dataframe tbody tr th:only-of-type {\n",
       "        vertical-align: middle;\n",
       "    }\n",
       "\n",
       "    .dataframe tbody tr th {\n",
       "        vertical-align: top;\n",
       "    }\n",
       "\n",
       "    .dataframe thead th {\n",
       "        text-align: right;\n",
       "    }\n",
       "</style>\n",
       "<table border=\"1\" class=\"dataframe\">\n",
       "  <thead>\n",
       "    <tr style=\"text-align: right;\">\n",
       "      <th></th>\n",
       "      <th>id_chamado</th>\n",
       "      <th>tipo</th>\n",
       "      <th>subtipo</th>\n",
       "      <th>data_inicio</th>\n",
       "      <th>subtipo</th>\n",
       "      <th>durante_evento</th>\n",
       "    </tr>\n",
       "  </thead>\n",
       "  <tbody>\n",
       "    <tr>\n",
       "      <th>104220</th>\n",
       "      <td>18078399</td>\n",
       "      <td>Poluição sonora</td>\n",
       "      <td>Perturbação do sossego</td>\n",
       "      <td>2022-12-30 23:55:13</td>\n",
       "      <td>Perturbação do sossego</td>\n",
       "      <td>Reveillon</td>\n",
       "    </tr>\n",
       "    <tr>\n",
       "      <th>104221</th>\n",
       "      <td>18078416</td>\n",
       "      <td>Poluição sonora</td>\n",
       "      <td>Perturbação do sossego</td>\n",
       "      <td>2022-12-31 00:38:53</td>\n",
       "      <td>Perturbação do sossego</td>\n",
       "      <td>Reveillon</td>\n",
       "    </tr>\n",
       "    <tr>\n",
       "      <th>104222</th>\n",
       "      <td>18079138</td>\n",
       "      <td>Poluição sonora</td>\n",
       "      <td>Perturbação do sossego</td>\n",
       "      <td>2022-12-31 13:55:41</td>\n",
       "      <td>Perturbação do sossego</td>\n",
       "      <td>Reveillon</td>\n",
       "    </tr>\n",
       "    <tr>\n",
       "      <th>104224</th>\n",
       "      <td>18078209</td>\n",
       "      <td>Poluição sonora</td>\n",
       "      <td>Perturbação do sossego</td>\n",
       "      <td>2022-12-30 21:05:12</td>\n",
       "      <td>Perturbação do sossego</td>\n",
       "      <td>Reveillon</td>\n",
       "    </tr>\n",
       "    <tr>\n",
       "      <th>105544</th>\n",
       "      <td>18079523</td>\n",
       "      <td>Poluição sonora</td>\n",
       "      <td>Perturbação do sossego</td>\n",
       "      <td>2022-12-31 20:52:48</td>\n",
       "      <td>Perturbação do sossego</td>\n",
       "      <td>Reveillon</td>\n",
       "    </tr>\n",
       "  </tbody>\n",
       "</table>\n",
       "</div>"
      ],
      "text/plain": [
       "       id_chamado             tipo                 subtipo  \\\n",
       "104220   18078399  Poluição sonora  Perturbação do sossego   \n",
       "104221   18078416  Poluição sonora  Perturbação do sossego   \n",
       "104222   18079138  Poluição sonora  Perturbação do sossego   \n",
       "104224   18078209  Poluição sonora  Perturbação do sossego   \n",
       "105544   18079523  Poluição sonora  Perturbação do sossego   \n",
       "\n",
       "               data_inicio                 subtipo durante_evento  \n",
       "104220 2022-12-30 23:55:13  Perturbação do sossego      Reveillon  \n",
       "104221 2022-12-31 00:38:53  Perturbação do sossego      Reveillon  \n",
       "104222 2022-12-31 13:55:41  Perturbação do sossego      Reveillon  \n",
       "104224 2022-12-30 21:05:12  Perturbação do sossego      Reveillon  \n",
       "105544 2022-12-31 20:52:48  Perturbação do sossego      Reveillon  "
      ]
     },
     "metadata": {},
     "output_type": "display_data"
    },
    {
     "data": {
      "text/html": [
       "<div>\n",
       "<style scoped>\n",
       "    .dataframe tbody tr th:only-of-type {\n",
       "        vertical-align: middle;\n",
       "    }\n",
       "\n",
       "    .dataframe tbody tr th {\n",
       "        vertical-align: top;\n",
       "    }\n",
       "\n",
       "    .dataframe thead th {\n",
       "        text-align: right;\n",
       "    }\n",
       "</style>\n",
       "<table border=\"1\" class=\"dataframe\">\n",
       "  <thead>\n",
       "    <tr style=\"text-align: right;\">\n",
       "      <th></th>\n",
       "      <th>id_chamado</th>\n",
       "      <th>tipo</th>\n",
       "      <th>subtipo</th>\n",
       "      <th>data_inicio</th>\n",
       "      <th>subtipo</th>\n",
       "      <th>durante_evento</th>\n",
       "    </tr>\n",
       "  </thead>\n",
       "  <tbody>\n",
       "    <tr>\n",
       "      <th>1610104</th>\n",
       "      <td>18080295</td>\n",
       "      <td>Poluição sonora</td>\n",
       "      <td>Perturbação do sossego</td>\n",
       "      <td>2023-01-01 21:02:32</td>\n",
       "      <td>Perturbação do sossego</td>\n",
       "      <td>Reveillon</td>\n",
       "    </tr>\n",
       "    <tr>\n",
       "      <th>1610113</th>\n",
       "      <td>18079629</td>\n",
       "      <td>Poluição sonora</td>\n",
       "      <td>Perturbação do sossego</td>\n",
       "      <td>2023-01-01 03:56:34</td>\n",
       "      <td>Perturbação do sossego</td>\n",
       "      <td>Reveillon</td>\n",
       "    </tr>\n",
       "    <tr>\n",
       "      <th>1610118</th>\n",
       "      <td>18080124</td>\n",
       "      <td>Poluição sonora</td>\n",
       "      <td>Perturbação do sossego</td>\n",
       "      <td>2023-01-01 17:39:28</td>\n",
       "      <td>Perturbação do sossego</td>\n",
       "      <td>Reveillon</td>\n",
       "    </tr>\n",
       "    <tr>\n",
       "      <th>1610746</th>\n",
       "      <td>18079614</td>\n",
       "      <td>Poluição sonora</td>\n",
       "      <td>Perturbação do sossego</td>\n",
       "      <td>2023-01-01 02:11:44</td>\n",
       "      <td>Perturbação do sossego</td>\n",
       "      <td>Reveillon</td>\n",
       "    </tr>\n",
       "    <tr>\n",
       "      <th>1610754</th>\n",
       "      <td>18080382</td>\n",
       "      <td>Poluição sonora</td>\n",
       "      <td>Perturbação do sossego</td>\n",
       "      <td>2023-01-01 23:05:50</td>\n",
       "      <td>Perturbação do sossego</td>\n",
       "      <td>Reveillon</td>\n",
       "    </tr>\n",
       "  </tbody>\n",
       "</table>\n",
       "</div>"
      ],
      "text/plain": [
       "        id_chamado             tipo                 subtipo  \\\n",
       "1610104   18080295  Poluição sonora  Perturbação do sossego   \n",
       "1610113   18079629  Poluição sonora  Perturbação do sossego   \n",
       "1610118   18080124  Poluição sonora  Perturbação do sossego   \n",
       "1610746   18079614  Poluição sonora  Perturbação do sossego   \n",
       "1610754   18080382  Poluição sonora  Perturbação do sossego   \n",
       "\n",
       "                data_inicio                 subtipo durante_evento  \n",
       "1610104 2023-01-01 21:02:32  Perturbação do sossego      Reveillon  \n",
       "1610113 2023-01-01 03:56:34  Perturbação do sossego      Reveillon  \n",
       "1610118 2023-01-01 17:39:28  Perturbação do sossego      Reveillon  \n",
       "1610746 2023-01-01 02:11:44  Perturbação do sossego      Reveillon  \n",
       "1610754 2023-01-01 23:05:50  Perturbação do sossego      Reveillon  "
      ]
     },
     "metadata": {},
     "output_type": "display_data"
    }
   ],
   "source": [
    "# 7. Selecione os chamados com esse subtipo que foram abertos durante os eventos contidos na tabela de eventos (Reveillon, Carnaval e Rock in Rio).\n",
    "def get_event(date):\n",
    "    event = events.loc[\n",
    "        (date >= events[\"data_inicial\"]) & (date <= events[\"data_final\"]), \"evento\"\n",
    "    ]\n",
    "    return event.item() if event.shape[0] > 0 else None\n",
    "\n",
    "\n",
    "calls_during_events = (\n",
    "    calls_perturbacao_sossego.loc[\n",
    "        calls_perturbacao_sossego[\"data_inicio\"].dt.date.between(\n",
    "            events[\"data_inicial\"].min(), events[\"data_final\"].max()\n",
    "        ),\n",
    "        [\"id_chamado\", \"tipo\", \"subtipo\", \"data_inicio\", \"subtipo\"],\n",
    "    ]\n",
    "    .assign(durante_evento=lambda d: d[\"data_inicio\"].dt.date.apply(get_event))\n",
    "    .dropna(subset=[\"durante_evento\"])\n",
    ")\n",
    "\n",
    "\n",
    "print(calls_during_events.info())\n",
    "display(calls_during_events.head())\n",
    "display(calls_during_events.tail())"
   ]
  },
  {
   "cell_type": "markdown",
   "metadata": {},
   "source": [
    "8. Quantos chamados desse subtipo foram abertos em cada evento?"
   ]
  },
  {
   "cell_type": "code",
   "execution_count": 21,
   "metadata": {},
   "outputs": [
    {
     "name": "stdout",
     "output_type": "stream",
     "text": [
      "Quantidade de chamados com o subtipo \"Perturbação do sossego\" abertos em cada evento:\n"
     ]
    },
    {
     "data": {
      "text/plain": [
       "Rock in Rio    834\n",
       "Carnaval       241\n",
       "Reveillon      137\n",
       "Name: durante_evento, dtype: int64"
      ]
     },
     "metadata": {},
     "output_type": "display_data"
    }
   ],
   "source": [
    "# 8. Quantos chamados desse subtipo foram abertos em cada evento?\n",
    "calls_during_events_by_event = calls_during_events[\"durante_evento\"].value_counts()\n",
    "print(\n",
    "    'Quantidade de chamados com o subtipo \"Perturbação do sossego\" abertos em cada evento:'\n",
    ")\n",
    "display(calls_during_events_by_event)"
   ]
  },
  {
   "cell_type": "markdown",
   "metadata": {},
   "source": [
    "9. Qual evento teve a maior média diária de chamados abertos desse subtipo?"
   ]
  },
  {
   "cell_type": "code",
   "execution_count": 22,
   "metadata": {},
   "outputs": [
    {
     "name": "stdout",
     "output_type": "stream",
     "text": [
      "O evento com maior média diária de chamados desse subtipo foi o Rock in Rio com 119.14 chamados por dia\n"
     ]
    }
   ],
   "source": [
    "# 9. Qual evento teve a maior média diária de chamados abertos desse subtipo?\n",
    "calls_during_events[\"data\"] = calls_during_events[\"data_inicio\"].dt.date\n",
    "calls_during_events_by_event_and_day = (\n",
    "    calls_during_events.groupby([\"durante_evento\", \"data\"])\n",
    "    .size()\n",
    "    .reset_index(name=\"count\")\n",
    "    .groupby(\"durante_evento\")[\"count\"]\n",
    "    .mean()\n",
    ")\n",
    "\n",
    "print(\n",
    "    f\"O evento com maior média diária de chamados desse subtipo foi o {calls_during_events_by_event_and_day.idxmax()} com {calls_during_events_by_event_and_day.max():.2f} chamados por dia\"\n",
    ")"
   ]
  },
  {
   "cell_type": "markdown",
   "metadata": {},
   "source": [
    "10. Compare as médias diárias de chamados abertos desse subtipo durante os eventos específicos (Reveillon, Carnaval e Rock in Rio) e a média diária de chamados abertos desse subtipo considerando todo o período de 01/01/2022 até 31/12/2023.\n"
   ]
  },
  {
   "cell_type": "code",
   "execution_count": 23,
   "metadata": {},
   "outputs": [
    {
     "name": "stdout",
     "output_type": "stream",
     "text": [
      "Carnaval                                 60.250000\n",
      "Reveillon                                45.666667\n",
      "Rock in Rio                             119.142857\n",
      "Período de 01/01/2022 até 31/12/2023     63.201192\n",
      "dtype: float64\n"
     ]
    }
   ],
   "source": [
    "# 10. Compare as médias diárias de chamados abertos desse subtipo durante os eventos específicos (Reveillon, Carnaval e Rock in Rio) e a média diária de chamados abertos desse subtipo considerando todo o período de 01/01/2022 até 31/12/2023.\n",
    "\n",
    "calls_perturbacao_sossego_by_day = (\n",
    "    calls_perturbacao_sossego.groupby(calls_perturbacao_sossego[\"data_inicio\"].dt.date)\n",
    "    .size()\n",
    "    .mean()\n",
    ")\n",
    "\n",
    "calls_during_events_by_event_and_day = pd.concat(\n",
    "    [\n",
    "        calls_during_events_by_event_and_day,\n",
    "        pd.Series(\n",
    "            calls_perturbacao_sossego_by_day,\n",
    "            index=[\"Período de 01/01/2022 até 31/12/2023\"],\n",
    "        ),\n",
    "    ]\n",
    ")\n",
    "print(calls_during_events_by_event_and_day)"
   ]
  }
 ],
 "metadata": {
  "kernelspec": {
   "display_name": "Python 3",
   "language": "python",
   "name": "python3"
  },
  "language_info": {
   "codemirror_mode": {
    "name": "ipython",
    "version": 3
   },
   "file_extension": ".py",
   "mimetype": "text/x-python",
   "name": "python",
   "nbconvert_exporter": "python",
   "pygments_lexer": "ipython3",
   "version": "3.10.13"
  }
 },
 "nbformat": 4,
 "nbformat_minor": 2
}
